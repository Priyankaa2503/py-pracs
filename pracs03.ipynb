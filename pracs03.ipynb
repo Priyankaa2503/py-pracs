{
 "cells": [
  {
   "cell_type": "code",
   "execution_count": 1,
   "metadata": {},
   "outputs": [
    {
     "name": "stdout",
     "output_type": "stream",
     "text": [
      "Hi I Am Priyanka\n"
     ]
    }
   ],
   "source": [
    "str ='hi i am priyanka'\n",
    "print(str.title())"
   ]
  },
  {
   "cell_type": "code",
   "execution_count": 2,
   "metadata": {},
   "outputs": [
    {
     "name": "stdout",
     "output_type": "stream",
     "text": [
      "{'h': 1, 'i': 3, ' ': 3, 'a': 3, 'm': 1, 'p': 1, 'r': 1, 'y': 1, 'n': 1, 'k': 1}\n"
     ]
    }
   ],
   "source": [
    "map={}\n",
    "for i in str:\n",
    "    map[i]=map.get(i,0)+1\n",
    "print(map)"
   ]
  },
  {
   "cell_type": "code",
   "execution_count": 3,
   "metadata": {},
   "outputs": [
    {
     "name": "stdout",
     "output_type": "stream",
     "text": [
      "{'state1': 'cap1', 'state2': 'cap2', 'state3': 'cap3', 'state4': 'cap4', 'state5': 'cap5'}\n"
     ]
    }
   ],
   "source": [
    "dict = {\n",
    "  \"state1\":\"cap1\",\n",
    "  \"state2\":\"cap2\",\n",
    "  \"state3\":\"cap3\",\n",
    "  \"state4\":\"cap4\",\n",
    " }\n",
    "dict[\"state5\"]=\"cap5\"\n",
    "print(dict)\n"
   ]
  },
  {
   "cell_type": "code",
   "execution_count": 4,
   "metadata": {},
   "outputs": [
    {
     "name": "stdout",
     "output_type": "stream",
     "text": [
      "Vowels: 2\n",
      "Consonant: 6\n",
      "Digit: 2\n",
      "Special Character: 2\n"
     ]
    }
   ],
   "source": [
    "def countCharacterType(str):\n",
    "     vowels = 0\n",
    "     consonant = 0\n",
    "     specialChar = 0\n",
    "     digit = 0\n",
    "\n",
    "     for i in range(0, len(str)):\n",
    "         \n",
    "         ch = str[i]\n",
    " \n",
    "         if ( (ch >= 'a' and ch <= 'z') or\n",
    "              (ch >= 'A' and ch <= 'Z') ):\n",
    " \n",
    "             ch = ch.lower()\n",
    " \n",
    "             if (ch == 'a' or ch == 'e' or ch == 'i'\n",
    "                         or ch == 'o' or ch == 'u'):\n",
    "                 vowels += 1\n",
    "             else:\n",
    "                 consonant += 1\n",
    "         \n",
    "         elif (ch >= '0' and ch <= '9'):\n",
    "             digit += 1\n",
    "         else:\n",
    "             specialChar += 1\n",
    "     \n",
    "     print(\"Vowels:\", vowels)\n",
    "     print(\"Consonant:\", consonant)\n",
    "     print(\"Digit:\", digit)\n",
    "     print(\"Special Character:\", specialChar)\n",
    "str1 = \"Password23@#\"\n",
    "countCharacterType(str1)"
   ]
  },
  {
   "cell_type": "code",
   "execution_count": 1,
   "metadata": {},
   "outputs": [
    {
     "name": "stdout",
     "output_type": "stream",
     "text": [
      "0 : ,\n",
      "1 : e\n",
      "2 : m\n",
      "3 : n\n",
      "4 : f\n",
      "5 : w\n",
      "6 : l\n",
      "7 : e\n",
      "8 : j\n",
      "9 : f\n",
      "10 : j\n",
      "11 : w\n",
      "12 : k\n",
      "13 : e\n"
     ]
    }
   ],
   "source": [
    "str = input(\"Enter a string with less then 15 letter: \")\n",
    "if(len(str)>15):\n",
    "     print(\"Enter a string with less characters\")\n",
    "else:\n",
    "     for i in range(len(str)):\n",
    "         print(i,\":\",str[i])\n"
   ]
  },
  {
   "cell_type": "code",
   "execution_count": 6,
   "metadata": {},
   "outputs": [
    {
     "name": "stdout",
     "output_type": "stream",
     "text": [
      "[1. 1. 1. 1. 1.]\n"
     ]
    }
   ],
   "source": [
    "import numpy as np\n",
    "arr = np.ones(5)\n",
    "print(arr)"
   ]
  },
  {
   "cell_type": "code",
   "execution_count": 9,
   "metadata": {},
   "outputs": [
    {
     "name": "stdout",
     "output_type": "stream",
     "text": [
      "[[ 1  2  3  4  5]\n",
      " [ 6  7  8  9 10]\n",
      " [11 12 13 14 15]\n",
      " [16 17 18 19 20]]\n",
      "True\n",
      "True\n"
     ]
    }
   ],
   "source": [
    "arr = np.array([[1, 2, 3, 4, 5],\n",
    "                    [6, 7, 8, 9, 10],\n",
    "                    [11, 12, 13, 14, 15],\n",
    "                    [16, 17, 18, 19, 20]\n",
    "                    ])\n",
    "print(arr)\n",
    "print([1, 2, 3, 4, 5] in arr.tolist())\n",
    "print([16, 17, 20, 19, 18] in arr.tolist())"
   ]
  },
  {
   "cell_type": "code",
   "execution_count": 10,
   "metadata": {},
   "outputs": [
    {
     "name": "stdout",
     "output_type": "stream",
     "text": [
      "[[ 63 320  83]\n",
      " [ 77 484 102]\n",
      " [ 84 248 117]]\n",
      "[[ 4 10 11]\n",
      " [ 8 10 15]\n",
      " [ 8 68 10]]\n"
     ]
    }
   ],
   "source": [
    "mat1 = ([1, 6, 5],[3 ,4, 8],[2, 12, 3])\n",
    "mat2 = ([3, 4, 6],[5, 6, 7],[6,56, 7])\n",
    "\n",
    "res = np.dot(mat1,mat2)\n",
    "print(res)\n",
    "res = np.add(mat1,mat2)\n",
    "print(res)"
   ]
  },
  {
   "cell_type": "code",
   "execution_count": 11,
   "metadata": {},
   "outputs": [
    {
     "name": "stdout",
     "output_type": "stream",
     "text": [
      "1\n"
     ]
    }
   ],
   "source": [
    "arr = np.array([1,1,1,2,3,])\n",
    "print(np.bincount(arr).argmax())"
   ]
  },
  {
   "cell_type": "code",
   "execution_count": 12,
   "metadata": {},
   "outputs": [
    {
     "name": "stdout",
     "output_type": "stream",
     "text": [
      "[1 2 3 4 5 6 7 8]\n"
     ]
    }
   ],
   "source": [
    "arr = np.array([[1,2,3,4],[5,6,7,8]])\n",
    "arr = arr.flatten()\n",
    "print(arr)"
   ]
  }
 ],
 "metadata": {
  "kernelspec": {
   "display_name": "Python 3",
   "language": "python",
   "name": "python3"
  },
  "language_info": {
   "codemirror_mode": {
    "name": "ipython",
    "version": 3
   },
   "file_extension": ".py",
   "mimetype": "text/x-python",
   "name": "python",
   "nbconvert_exporter": "python",
   "pygments_lexer": "ipython3",
   "version": "3.11.2"
  },
  "orig_nbformat": 4
 },
 "nbformat": 4,
 "nbformat_minor": 2
}
