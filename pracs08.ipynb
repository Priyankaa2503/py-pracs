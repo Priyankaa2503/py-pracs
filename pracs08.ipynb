{
 "cells": [
  {
   "cell_type": "code",
   "execution_count": 1,
   "metadata": {},
   "outputs": [
    {
     "name": "stdout",
     "output_type": "stream",
     "text": [
      "[12, 24, 35, 88, 120, 155]\n"
     ]
    }
   ],
   "source": [
    "list =[12, 24, 35, 24, 88, 120, 155, 88, 120, 155]\n",
    "res = []\n",
    "for i in list:\n",
    "    if i not in res:\n",
    "        res.append(i)\n",
    "print(res)"
   ]
  },
  {
   "cell_type": "code",
   "execution_count": 3,
   "metadata": {},
   "outputs": [
    {
     "name": "stdout",
     "output_type": "stream",
     "text": [
      "{1: 1, 2: 4, 3: 9, 4: 16, 5: 25}\n"
     ]
    }
   ],
   "source": [
    "n = int(input(\"number of elements\"))\n",
    "def printDict():\n",
    "    dict={}\n",
    "    for i in range(1,n+1):\n",
    "        dict[i]=i*i\n",
    "    print(dict)\n",
    "printDict()\n",
    "\n"
   ]
  },
  {
   "cell_type": "code",
   "execution_count": 4,
   "metadata": {},
   "outputs": [
    {
     "name": "stdout",
     "output_type": "stream",
     "text": [
      "6\n"
     ]
    }
   ],
   "source": [
    "n= int(input(\"enter int\"))\n",
    "sum=0\n",
    "while n>0:\n",
    "    temp=n%10\n",
    "    sum+=temp\n",
    "    n=n//10\n",
    "print(sum)\n"
   ]
  },
  {
   "cell_type": "code",
   "execution_count": 9,
   "metadata": {},
   "outputs": [
    {
     "name": "stdout",
     "output_type": "stream",
     "text": [
      "2\n",
      "3\n",
      "5\n",
      "7\n",
      "11\n",
      "13\n",
      "17\n",
      "19\n",
      "23\n"
     ]
    }
   ],
   "source": [
    "def print_prime(n):\n",
    "     for num in range(2, n + 1):\n",
    "         for i in range(2, num):\n",
    "             if (num % i) == 0:\n",
    "                 break\n",
    "         else:\n",
    "             print(num)\n",
    "print_prime(25)"
   ]
  },
  {
   "cell_type": "code",
   "execution_count": 10,
   "metadata": {},
   "outputs": [
    {
     "name": "stdout",
     "output_type": "stream",
     "text": [
      "8\n",
      "7\n",
      "6\n",
      "5\n",
      "4\n",
      "3\n",
      "2\n",
      "1\n"
     ]
    }
   ],
   "source": [
    "def rec(n):\n",
    "    if n<=0:\n",
    "        return \n",
    "    print(n)\n",
    "    n-=1\n",
    "    rec(n)\n",
    "\n",
    "rec(8)"
   ]
  },
  {
   "cell_type": "code",
   "execution_count": 13,
   "metadata": {},
   "outputs": [
    {
     "name": "stdout",
     "output_type": "stream",
     "text": [
      "Student ID: SV12\n",
      "Student ID: SV12\n",
      "Student Name: Jean Garner\n",
      "Student ID: SV12\n",
      "Student Name: Jean Garner\n",
      "Student Class: V\n"
     ]
    }
   ],
   "source": [
    "def student_data(student_id, student_name=None, student_class=None):\n",
    "    print(f\"Student ID: {student_id}\")\n",
    "    \n",
    "    if student_name is not None:\n",
    "        print(f\"Student Name: {student_name}\")\n",
    "    \n",
    "    if student_class is not None:\n",
    "        print(f\"Student Class: {student_class}\")\n",
    "\n",
    "# Example usage:\n",
    "student_data(student_id='SV12')\n",
    "student_data(student_id='SV12', student_name='Jean Garner')\n",
    "student_data(student_id='SV12', student_name='Jean Garner', student_class='V')\n"
   ]
  },
  {
   "cell_type": "code",
   "execution_count": 16,
   "metadata": {},
   "outputs": [
    {
     "name": "stdout",
     "output_type": "stream",
     "text": [
      "5\n"
     ]
    }
   ],
   "source": [
    "def roman_to_int(str):\n",
    "     rom_val = {'I': 1, 'V': 5, 'X': 10, 'L': 50, 'C': 100, 'D': 500, 'M': 1000}\n",
    "     ans = 0\n",
    "     for i in range(len(str)):\n",
    "         ans += rom_val[str[i]]\n",
    "         if i>0 and rom_val[str[i]]>rom_val[str[i-1]]:\n",
    "             ans -= 2*rom_val[str[i-1]]\n",
    "     print(ans)\n",
    "roman_to_int(\"IIV\")\n"
   ]
  },
  {
   "cell_type": "code",
   "execution_count": 20,
   "metadata": {},
   "outputs": [
    {
     "ename": "TypeError",
     "evalue": "'list' object is not callable",
     "output_type": "error",
     "traceback": [
      "\u001b[0;31m---------------------------------------------------------------------------\u001b[0m",
      "\u001b[0;31mTypeError\u001b[0m                                 Traceback (most recent call last)",
      "Cell \u001b[0;32mIn[20], line 9\u001b[0m\n\u001b[1;32m      6\u001b[0m s \u001b[39m=\u001b[39m {\u001b[39m1\u001b[39m, \u001b[39m2\u001b[39m, \u001b[39m3\u001b[39m, \u001b[39m4\u001b[39m}\n\u001b[1;32m      8\u001b[0m \u001b[39mfor\u001b[39;00m n \u001b[39min\u001b[39;00m \u001b[39mrange\u001b[39m(\u001b[39mlen\u001b[39m(s) \u001b[39m+\u001b[39m \u001b[39m1\u001b[39m):\n\u001b[0;32m----> 9\u001b[0m     subsets \u001b[39m=\u001b[39m findSubsets(s, n)\n\u001b[1;32m     10\u001b[0m     \u001b[39mprint\u001b[39m(subsets)\n",
      "Cell \u001b[0;32mIn[20], line 4\u001b[0m, in \u001b[0;36mfindSubsets\u001b[0;34m(s, n)\u001b[0m\n\u001b[1;32m      3\u001b[0m \u001b[39mdef\u001b[39;00m \u001b[39mfindSubsets\u001b[39m(s, n):\n\u001b[0;32m----> 4\u001b[0m     \u001b[39mreturn\u001b[39;00m \u001b[39mlist\u001b[39;49m(itertools\u001b[39m.\u001b[39;49mcombinations(s, n))\n",
      "\u001b[0;31mTypeError\u001b[0m: 'list' object is not callable"
     ]
    }
   ],
   "source": [
    "import itertools\n",
    "\n",
    "def findSubsets(s, n):\n",
    "    return list(itertools.combinations(s, n))\n",
    "\n",
    "s = {1, 2, 3, 4}\n",
    "\n",
    "for n in range(len(s) + 1):\n",
    "    subsets = findSubsets(s, n)\n",
    "    print(subsets)\n"
   ]
  },
  {
   "cell_type": "code",
   "execution_count": 21,
   "metadata": {},
   "outputs": [
    {
     "name": "stdout",
     "output_type": "stream",
     "text": [
      "0 10\n",
      "1 20\n",
      "2 10\n",
      "3 40\n",
      "index1=2, index2=3\n"
     ]
    }
   ],
   "source": [
    "class py_solution:\n",
    "   def twoSum(self, nums, target):\n",
    "        lookup = {}\n",
    "        for i, num in enumerate(nums):\n",
    "            print(i,num)\n",
    "            if target - num in lookup:\n",
    "                return (lookup[target - num], i )\n",
    "            lookup[num] = i\n",
    "print(\"index1=%d, index2=%d\" % py_solution().twoSum((10,20,10,40,50,60,70),50))\n"
   ]
  },
  {
   "cell_type": "code",
   "execution_count": 22,
   "metadata": {},
   "outputs": [
    {
     "name": "stdout",
     "output_type": "stream",
     "text": [
      "16\n"
     ]
    }
   ],
   "source": [
    "def pow(x,n):\n",
    "     return x**n\n",
    "print(pow(2,4))"
   ]
  }
 ],
 "metadata": {
  "kernelspec": {
   "display_name": "Python 3",
   "language": "python",
   "name": "python3"
  },
  "language_info": {
   "codemirror_mode": {
    "name": "ipython",
    "version": 3
   },
   "file_extension": ".py",
   "mimetype": "text/x-python",
   "name": "python",
   "nbconvert_exporter": "python",
   "pygments_lexer": "ipython3",
   "version": "3.11.2"
  },
  "orig_nbformat": 4
 },
 "nbformat": 4,
 "nbformat_minor": 2
}
