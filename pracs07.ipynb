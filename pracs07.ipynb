{
 "cells": [
  {
   "cell_type": "code",
   "execution_count": 1,
   "metadata": {},
   "outputs": [
    {
     "name": "stdout",
     "output_type": "stream",
     "text": [
      "7\n"
     ]
    }
   ],
   "source": [
    "class calculator():\n",
    "    def __init__(self,n1,n2):\n",
    "        self.n1=n1\n",
    "        self.n2=n2\n",
    "    def add(self):\n",
    "         return self.n1+self.n2\n",
    "    def mulNumbers(self):\n",
    "         return self.n1*self.n2\n",
    "    def divNumbers(self):\n",
    "         return self.n1/self.n2\n",
    "    def subNumbers(self):\n",
    "         return self.n1-self.n2\n",
    "calc = calculator(5,2)\n",
    "print(calc.add())\n",
    "\n"
   ]
  },
  {
   "cell_type": "code",
   "execution_count": 3,
   "metadata": {},
   "outputs": [
    {
     "name": "stdout",
     "output_type": "stream",
     "text": [
      "pri\n",
      "1\n",
      "2\n"
     ]
    }
   ],
   "source": [
    "class Student():\n",
    "    name = \"pri\"\n",
    "    id=\"1\"\n",
    "def display(self):\n",
    "    print(self.name)\n",
    "    print(self.id)\n",
    "    print(self.class_name)\n",
    "s = Student()\n",
    "setattr(s,'class_name','2')\n",
    "display(s)"
   ]
  },
  {
   "cell_type": "code",
   "execution_count": 7,
   "metadata": {},
   "outputs": [
    {
     "data": {
      "text/plain": [
       "'priyanka am i hi'"
      ]
     },
     "execution_count": 7,
     "metadata": {},
     "output_type": "execute_result"
    }
   ],
   "source": [
    "class Reverse():\n",
    "    def rev(self,str):\n",
    "        words = str.split(' ')\n",
    "        rev_words=' '.join(reversed(words))\n",
    "        return rev_words\n",
    "revsentence = Reverse()\n",
    "revsentence.rev(\"hi i am priyanka\")\n",
    "\n",
    "\n",
    "    "
   ]
  },
  {
   "cell_type": "code",
   "execution_count": 14,
   "metadata": {},
   "outputs": [
    {
     "data": {
      "text/plain": [
       "'PRIYANKA'"
      ]
     },
     "execution_count": 14,
     "metadata": {},
     "output_type": "execute_result"
    }
   ],
   "source": [
    "class String():\n",
    "    def getString(self):\n",
    "        str = input(\"Enter a String\")\n",
    "        self.str = str\n",
    "    def capitalize(self):\n",
    "        return self.str.upper()\n",
    "\n",
    "s = String()\n",
    "s.getString()\n",
    "s.capitalize()\n",
    "        "
   ]
  }
 ],
 "metadata": {
  "kernelspec": {
   "display_name": "Python 3",
   "language": "python",
   "name": "python3"
  },
  "language_info": {
   "codemirror_mode": {
    "name": "ipython",
    "version": 3
   },
   "file_extension": ".py",
   "mimetype": "text/x-python",
   "name": "python",
   "nbconvert_exporter": "python",
   "pygments_lexer": "ipython3",
   "version": "3.11.2"
  },
  "orig_nbformat": 4
 },
 "nbformat": 4,
 "nbformat_minor": 2
}
