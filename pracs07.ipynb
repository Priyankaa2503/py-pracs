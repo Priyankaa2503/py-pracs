{
 "cells": [
  {
   "cell_type": "code",
   "execution_count": 1,
   "metadata": {},
   "outputs": [
    {
     "name": "stdout",
     "output_type": "stream",
     "text": [
      "7\n"
     ]
    }
   ],
   "source": [
    "class calculator():\n",
    "    def __init__(self,n1,n2):\n",
    "        self.n1=n1\n",
    "        self.n2=n2\n",
    "    def add(self):\n",
    "         return self.n1+self.n2\n",
    "    def mulNumbers(self):\n",
    "         return self.n1*self.n2\n",
    "    def divNumbers(self):\n",
    "         return self.n1/self.n2\n",
    "    def subNumbers(self):\n",
    "         return self.n1-self.n2\n",
    "calc = calculator(5,2)\n",
    "print(calc.add())\n",
    "\n"
   ]
  },
  {
   "cell_type": "code",
   "execution_count": 3,
   "metadata": {},
   "outputs": [
    {
     "name": "stdout",
     "output_type": "stream",
     "text": [
      "pri\n",
      "1\n",
      "2\n"
     ]
    }
   ],
   "source": [
    "class Student():\n",
    "    name = \"pri\"\n",
    "    id=\"1\"\n",
    "def display(self):\n",
    "    print(self.name)\n",
    "    print(self.id)\n",
    "    print(self.class_name)\n",
    "s = Student()\n",
    "setattr(s,'class_name','2')\n",
    "display(s)"
   ]
  },
  {
   "cell_type": "code",
   "execution_count": 7,
   "metadata": {},
   "outputs": [
    {
     "data": {
      "text/plain": [
       "'priyanka am i hi'"
      ]
     },
     "execution_count": 7,
     "metadata": {},
     "output_type": "execute_result"
    }
   ],
   "source": [
    "class Reverse():\n",
    "    def rev(self,str):\n",
    "        words = str.split(' ')\n",
    "        rev_words=' '.join(reversed(words))\n",
    "        return rev_words\n",
    "revsentence = Reverse()\n",
    "revsentence.rev(\"hi i am priyanka\")\n",
    "\n",
    "\n",
    "    "
   ]
  },
  {
   "cell_type": "code",
   "execution_count": 16,
   "metadata": {},
   "outputs": [
    {
     "data": {
      "text/plain": [
       "'PRIYANKA'"
      ]
     },
     "execution_count": 16,
     "metadata": {},
     "output_type": "execute_result"
    }
   ],
   "source": [
    "class String():\n",
    "    def getString(self):\n",
    "        str = input(\"Enter a String\")\n",
    "        self.str = str\n",
    "    def capitalize(self):\n",
    "        return self.str.upper()\n",
    "\n",
    "s = String()\n",
    "s.getString()\n",
    "s.capitalize()\n",
    "        "
   ]
  },
  {
   "cell_type": "code",
   "execution_count": 17,
   "metadata": {},
   "outputs": [
    {
     "name": "stdout",
     "output_type": "stream",
     "text": [
      "200.96\n",
      "50.26548245743669\n"
     ]
    }
   ],
   "source": [
    "import math\n",
    "class Circle():\n",
    "     def __init__(self, r):\n",
    "         self.radius = r\n",
    "\n",
    "     def area(self):\n",
    "         return self.radius**2*3.14\n",
    "    \n",
    "     def perimeter(self):\n",
    "         return 2*self.radius*math.pi\n",
    "NewCircle = Circle(8)\n",
    "print(NewCircle.area())\n",
    "print(NewCircle.perimeter())"
   ]
  },
  {
   "cell_type": "code",
   "execution_count": 18,
   "metadata": {},
   "outputs": [
    {
     "name": "stdout",
     "output_type": "stream",
     "text": [
      "The speed of car is 120  kmph and milege is 20\n",
      "---Child class---\n",
      "The speed of car is 140  kmph and milege is 40\n"
     ]
    }
   ],
   "source": [
    "class vehicle:\n",
    "     def __init__(self, speed , milege):\n",
    "         self.speed=speed\n",
    "         self.milege=milege        \n",
    "     def ride(self):\n",
    "         print(\"The speed of car is \" +self.speed +\"  kmph and milege is \"+self.milege)\n",
    "p1=vehicle(\"120\",\"20\")\n",
    "p1.ride()\n",
    "print(\"---Child class---\")\n",
    "class bus(vehicle):\n",
    "     pass\n",
    "x=bus(\"140\",\"40\")\n",
    "x.ride()\n"
   ]
  },
  {
   "cell_type": "code",
   "execution_count": 22,
   "metadata": {},
   "outputs": [
    {
     "name": "stdout",
     "output_type": "stream",
     "text": [
      "     name         city  age  py-score\n",
      "0  Xavier  Mexico City   41      88.0\n",
      "1     Ann      Toronto   28      79.0\n",
      "2    Jana       Prague   33      81.0\n",
      "3      Yi     Shanghai   34      80.0\n",
      "4   Robin   Manchester   38      68.0\n",
      "5    Amal        Cairo   31      61.0\n",
      "6    Nori        Osaka   37      84.0\n"
     ]
    },
    {
     "data": {
      "image/png": "[encoded data removed]",
      "text/plain": [
       "<Figure size 640x480 with 1 Axes>"
      ]
     },
     "metadata": {},
     "output_type": "display_data"
    }
   ],
   "source": [
    "import matplotlib.pyplot as plt\n",
    "import numpy as np\n",
    "import pandas as pd\n",
    "data = {'name': ['Xavier', 'Ann', 'Jana', 'Yi', 'Robin', 'Amal', 'Nori'],\n",
    "  'city': ['Mexico City', 'Toronto', 'Prague', 'Shanghai','Manchester', 'Cairo', 'Osaka'],\n",
    "  'age': [41, 28, 33, 34, 38, 31, 37],\n",
    "  'py-score': [88.0, 79.0, 81.0, 80.0, 68.0, 61.0, 84.0]\n",
    "  }\n",
    "f1=pd.DataFrame(data)\n",
    "print(f1)\n",
    "x=data[\"name\"]\n",
    "y=data[\"age\"]\n",
    "plt.plot(x,y)\n",
    "plt.show()"
   ]
  },
  {
   "cell_type": "code",
   "execution_count": 23,
   "metadata": {},
   "outputs": [
    {
     "name": "stdout",
     "output_type": "stream",
     "text": [
      "[1, 2, 3, 4, 0, 0, 0]\n"
     ]
    }
   ],
   "source": [
    "arr = [0,1,2,3,4,0,0]\n",
    "for i in arr:\n",
    "    if(i==0):\n",
    "        arr.remove(0)\n",
    "        arr.append(0)\n",
    "print(arr)"
   ]
  },
  {
   "cell_type": "code",
   "execution_count": 27,
   "metadata": {},
   "outputs": [
    {
     "name": "stdout",
     "output_type": "stream",
     "text": [
      " hello, world,bag,without\n"
     ]
    }
   ],
   "source": [
    "sen = input(\"Enter a comma separated sent\")\n",
    "lis = sen.split(',')\n",
    "lis.sort()\n",
    "sen=\",\".join(lis)\n",
    "print(sen)"
   ]
  },
  {
   "cell_type": "code",
   "execution_count": 28,
   "metadata": {},
   "outputs": [
    {
     "name": "stdout",
     "output_type": "stream",
     "text": [
      "18,22,24\n"
     ]
    }
   ],
   "source": [
    "d = input(\"Enter a comma seperated sentence: \")\n",
    "list = d.split(\",\")\n",
    "ans = []\n",
    "for val in list:\n",
    "     valint = int(val)\n",
    "     f = math.sqrt((2*50*valint)/30)\n",
    "     ans.append(str(int(f)))\n",
    "print(','.join(ans))\n"
   ]
  }
 ],
 "metadata": {
  "kernelspec": {
   "display_name": "Python 3",
   "language": "python",
   "name": "python3"
  },
  "language_info": {
   "codemirror_mode": {
    "name": "ipython",
    "version": 3
   },
   "file_extension": ".py",
   "mimetype": "text/x-python",
   "name": "python",
   "nbconvert_exporter": "python",
   "pygments_lexer": "ipython3",
   "version": "3.11.2"
  },
  "orig_nbformat": 4
 },
 "nbformat": 4,
 "nbformat_minor": 2
}
