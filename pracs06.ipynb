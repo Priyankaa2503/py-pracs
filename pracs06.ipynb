{
 "cells": [
  {
   "cell_type": "code",
   "execution_count": 1,
   "metadata": {},
   "outputs": [
    {
     "name": "stdout",
     "output_type": "stream",
     "text": [
      "h\n",
      "i\n",
      " \n",
      "i\n",
      " \n",
      "a\n",
      "m\n",
      " \n",
      "p\n",
      "r\n",
      "i\n",
      "y\n",
      "a\n",
      "n\n",
      "k\n",
      "a\n"
     ]
    }
   ],
   "source": [
    "with open ('temp3.txt','r') as f:\n",
    "    for line in f:\n",
    "        for char in line:\n",
    "            print(char)"
   ]
  },
  {
   "cell_type": "code",
   "execution_count": 7,
   "metadata": {},
   "outputs": [
    {
     "name": "stdout",
     "output_type": "stream",
     "text": [
      "Number of characters: 16\n",
      "Number of words: 3\n",
      "Number of spaces: 1\n",
      "Number of lines: 2\n"
     ]
    }
   ],
   "source": [
    "file_path = 'temp.txt'\n",
    "\n",
    "char_count = 0\n",
    "word_count = 0\n",
    "space_count = 0\n",
    "line_count = 0\n",
    "\n",
    "with open(file_path, 'r') as file:\n",
    "    for line in file:\n",
    "        line_count += 1\n",
    "        char_count += len(line)\n",
    "        word_count += len(line.split())\n",
    "        space_count += line.count(' ')\n",
    "\n",
    "print(\"Number of characters:\", char_count)\n",
    "print(\"Number of words:\", word_count)\n",
    "print(\"Number of spaces:\", space_count)\n",
    "print(\"Number of lines:\", line_count)\n"
   ]
  },
  {
   "cell_type": "code",
   "execution_count": 12,
   "metadata": {},
   "outputs": [
    {
     "name": "stdout",
     "output_type": "stream",
     "text": [
      "enter marks below 100\n"
     ]
    }
   ],
   "source": [
    "class InvalidMarks(Exception):\n",
    "    pass\n",
    "while True:\n",
    "    try:\n",
    "        marks = int(input(\"Enter you marks\"))\n",
    "        if (marks>100):\n",
    "            raise InvalidMarks\n",
    "        else:\n",
    "            print(marks)\n",
    "            break\n",
    "    except InvalidMarks:\n",
    "        print(\"enter marks below 100\")\n",
    "        break\n",
    "\n"
   ]
  },
  {
   "cell_type": "code",
   "execution_count": 4,
   "metadata": {},
   "outputs": [
    {
     "name": "stdout",
     "output_type": "stream",
     "text": [
      "b*d ie the denominator turns out to be 0\n"
     ]
    }
   ],
   "source": [
    "class ZeroDivisionError(Exception):\n",
    "    pass\n",
    "a = 1\n",
    "b= 2\n",
    "c = 3\n",
    "d = 0\n",
    "while True:\n",
    "    try:        \n",
    "        if(b*d==0):\n",
    "            raise ZeroDivisionError\n",
    "        else:\n",
    "            res = ((a+d) + (b*c))/ (b*d)\n",
    "            print(res)\n",
    "    except ZeroDivisionError:\n",
    "        print(\"b*d ie the denominator turns out to be 0\")\n",
    "        break\n",
    "            \n",
    "\n"
   ]
  },
  {
   "cell_type": "code",
   "execution_count": 3,
   "metadata": {},
   "outputs": [
    {
     "name": "stdout",
     "output_type": "stream",
     "text": [
      "age invalid\n"
     ]
    }
   ],
   "source": [
    "class AgeError(Exception):\n",
    "    pass\n",
    "while True:\n",
    "    try:\n",
    "        age = int(input(\"Enter age\"))\n",
    "        if(age<18):\n",
    "            raise AgeError\n",
    "        else:\n",
    "            print(\"Age valid\")\n",
    "            break\n",
    "    except AgeError:\n",
    "        print(\"age invalid\")\n",
    "        break"
   ]
  },
  {
   "cell_type": "code",
   "execution_count": 6,
   "metadata": {},
   "outputs": [
    {
     "name": "stdout",
     "output_type": "stream",
     "text": [
      "File not found\n"
     ]
    }
   ],
   "source": [
    "try:\n",
    "     f = open(\"temp4.txt\",'r')\n",
    "except FileNotFoundError:\n",
    "     print(\"File not found\")"
   ]
  },
  {
   "cell_type": "code",
   "execution_count": 17,
   "metadata": {},
   "outputs": [
    {
     "name": "stdout",
     "output_type": "stream",
     "text": [
      "Enter a string\n"
     ]
    }
   ],
   "source": [
    "str1 = \"ev\"\n",
    "try:\n",
    "    if not (type(str1)==str):\n",
    "        raise TypeError    \n",
    "except TypeError:\n",
    "    print(\"Enter a string\")\n",
    "   \n",
    "\n"
   ]
  },
  {
   "cell_type": "code",
   "execution_count": 18,
   "metadata": {},
   "outputs": [
    {
     "name": "stdout",
     "output_type": "stream",
     "text": [
      "Enter first complex number\n",
      "First Complex Number: 3+2i\n",
      "Enter second complex number\n",
      "Second Complex Number: 4+2i\n",
      "Sum of two complex numbers is 7+4i\n"
     ]
    }
   ],
   "source": [
    "class Complex():\n",
    "    def initComplex(self):\n",
    "        self.realPart = int(input(\"Enter the Real Part: \"))\n",
    "        self.imgPart = int(input(\"Enter the Imaginary Part: \"))\n",
    "    def display(self):\n",
    "        print(self.realPart,\"+\",self.imgPart,\"i\", sep=\"\")\n",
    "    def sum(self,c1,c2):\n",
    "        self.realPart = c1.realPart + c2.realPart\n",
    "        self.imgPart = c1.imgPart + c2.imgPart\n",
    "c1=Complex()\n",
    "c2=Complex()\n",
    "c3 = Complex()\n",
    "print(\"Enter first complex number\")\n",
    "c1.initComplex()\n",
    "print(\"First Complex Number: \", end=\"\")\n",
    "c1.display()\n",
    "print(\"Enter second complex number\")\n",
    "c2.initComplex()\n",
    "print(\"Second Complex Number: \", end=\"\")\n",
    "c2.display()\n",
    "print(\"Sum of two complex numbers is \", end=\"\")\n",
    "c3.sum(c1,c2)\n",
    "c3.display()\n",
    "\n",
    "\n"
   ]
  },
  {
   "cell_type": "code",
   "execution_count": 20,
   "metadata": {},
   "outputs": [
    {
     "name": "stdout",
     "output_type": "stream",
     "text": [
      "9\n"
     ]
    }
   ],
   "source": [
    "class Triangle():\n",
    "    def __init__(self,a,b,c):\n",
    "        self.a=a\n",
    "        self.b=b\n",
    "        self.c=c\n",
    "    def perimeter(self):\n",
    "        return self.a+self.b+self.c\n",
    "triobj= Triangle(2,3,4)\n",
    "print(triobj.perimeter())\n"
   ]
  },
  {
   "cell_type": "code",
   "execution_count": 21,
   "metadata": {},
   "outputs": [
    {
     "name": "stdout",
     "output_type": "stream",
     "text": [
      "[2, 5, 3]\n"
     ]
    }
   ],
   "source": [
    "class check():\n",
    "    def __init__(self):\n",
    "        self.list=[]\n",
    "    def add(self,a):\n",
    "        return self.list.append(a)\n",
    "    def remove(self,b):\n",
    "        return self.list.remove(b)\n",
    "    def dis(self):\n",
    "        return self.list\n",
    "newlist = check()\n",
    "newlist.add(2)\n",
    "newlist.add(5)\n",
    "newlist.add(4)\n",
    "newlist.add(3)\n",
    "newlist.remove(4)\n",
    "print(newlist.dis())\n",
    "\n"
   ]
  }
 ],
 "metadata": {
  "kernelspec": {
   "display_name": "Python 3",
   "language": "python",
   "name": "python3"
  },
  "language_info": {
   "codemirror_mode": {
    "name": "ipython",
    "version": 3
   },
   "file_extension": ".py",
   "mimetype": "text/x-python",
   "name": "python",
   "nbconvert_exporter": "python",
   "pygments_lexer": "ipython3",
   "version": "3.11.2"
  },
  "orig_nbformat": 4
 },
 "nbformat": 4,
 "nbformat_minor": 2
}
