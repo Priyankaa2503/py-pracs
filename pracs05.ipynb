{
 "cells": [
  {
   "cell_type": "code",
   "execution_count": 6,
   "metadata": {},
   "outputs": [
    {
     "name": "stdout",
     "output_type": "stream",
     "text": [
      "{1: 'a', 2: 'b', 3: 'c', 4: 'd'}\n"
     ]
    }
   ],
   "source": [
    "key = [1,2,3,4]\n",
    "value=['a','b','c','d']\n",
    "dic ={}\n",
    "for i in range(0,len(key)):\n",
    "    dic[key[i]]=value[i]\n",
    "print(dic)  \n",
    "# res = dict(zip(key, value))\n",
    "# print(res)\n"
   ]
  },
  {
   "cell_type": "code",
   "execution_count": 13,
   "metadata": {},
   "outputs": [
    {
     "name": "stdout",
     "output_type": "stream",
     "text": [
      "124\n",
      "2\n"
     ]
    }
   ],
   "source": [
    "no = int(input(\"Enter a number:\"))\n",
    "print(no)\n",
    "count= 0\n",
    "while (no>=10):\n",
    "    no//=6\n",
    "    count+=1\n",
    "print(count)    "
   ]
  },
  {
   "cell_type": "code",
   "execution_count": 16,
   "metadata": {},
   "outputs": [
    {
     "name": "stdout",
     "output_type": "stream",
     "text": [
      "Hi I Am Priyanka\n"
     ]
    }
   ],
   "source": [
    "with open(\"temp.txt\",'r') as f:\n",
    "     for line in f:\n",
    "         print(line.title())\n",
    "f.close()"
   ]
  },
  {
   "cell_type": "code",
   "execution_count": 19,
   "metadata": {},
   "outputs": [
    {
     "name": "stdout",
     "output_type": "stream",
     "text": [
      "{'p': 1, 'r': 1, 'i': 1, 'y': 1, 'a': 2, 'n': 1, 'k': 1}\n"
     ]
    }
   ],
   "source": [
    "with open(\"temp.txt\",'r') as f:\n",
    "     dict={}     \n",
    "     for line in f:\n",
    "          for i in line:\n",
    "            dict[i]=dict.get(i,0)+1\n",
    "     print(dict)\n",
    "         \n",
    "f.close()"
   ]
  },
  {
   "cell_type": "code",
   "execution_count": 22,
   "metadata": {},
   "outputs": [
    {
     "name": "stdout",
     "output_type": "stream",
     "text": [
      "hello\n",
      "hello HELLO WORLD\n"
     ]
    }
   ],
   "source": [
    "# part 1:\n",
    "with open (\"temp.txt\",'w') as f:\n",
    "    f.write(\"hello\")\n",
    "    f.close()\n",
    "with open (\"temp.txt\",'r') as f:\n",
    "    print(f.read())\n",
    "    f.close()\n",
    "# part 2\n",
    "with open(\"temp.txt\",'a') as f:\n",
    "     f.write(\" HELLO WORLD\")\n",
    "     f.close()\n",
    "with open(\"temp.txt\",'r') as f:\n",
    "     print(f.read())"
   ]
  },
  {
   "cell_type": "code",
   "execution_count": 23,
   "metadata": {},
   "outputs": [
    {
     "name": "stdout",
     "output_type": "stream",
     "text": [
      "hello HELLO WORLD\n"
     ]
    }
   ],
   "source": [
    "with open (\"temp.txt\",'r') as f:\n",
    "    print(f.read())"
   ]
  },
  {
   "cell_type": "code",
   "execution_count": 26,
   "metadata": {},
   "outputs": [],
   "source": [
    "source_file = 'temp.txt'\n",
    "destination_file = 'temp2.txt'\n",
    "\n",
    "with open(source_file, 'r') as source:\n",
    "    with open(destination_file, 'w') as destination:\n",
    "        for line in source:\n",
    "            destination.write(line)\n"
   ]
  },
  {
   "cell_type": "code",
   "execution_count": 31,
   "metadata": {},
   "outputs": [
    {
     "name": "stdout",
     "output_type": "stream",
     "text": [
      "True\n"
     ]
    }
   ],
   "source": [
    "import os.path\n",
    "f = open(\"temp2.txt\",'a')\n",
    "n = int(input(\"Enter the number of students: \"))\n",
    "for i in range(0,n):\n",
    "     name = input(\"Enter the name of the student: \")\n",
    "     roll = input(\"Enter the roll number of the student: \")\n",
    "     str = name+\":\"+roll\n",
    "     f.write(str)\n",
    "     f.write(\"\\n\")\n",
    "f.close()\n",
    "path = \"temp2.txt\"\n",
    "isExist = os.path.exists(path)\n",
    "print(isExist)"
   ]
  },
  {
   "cell_type": "code",
   "execution_count": 35,
   "metadata": {},
   "outputs": [],
   "source": [
    "file1 = input(\"Enter file 1\")\n",
    "file2 = input(\"enter file 2\")\n",
    "f2 = open(file2,'a')\n",
    "with open (file1,'r') as f:\n",
    "    for line in f:\n",
    "        f2.write(line)"
   ]
  },
  {
   "cell_type": "code",
   "execution_count": 39,
   "metadata": {},
   "outputs": [
    {
     "name": "stdout",
     "output_type": "stream",
     "text": [
      "hi\n",
      "i\n",
      "am\n",
      "priyanka\n"
     ]
    }
   ],
   "source": [
    "with open ('temp3.txt','r') as f:\n",
    "    for line in f:\n",
    "        list = line.split(\" \")\n",
    "        for i in list:\n",
    "            print(i)"
   ]
  }
 ],
 "metadata": {
  "kernelspec": {
   "display_name": "Python 3",
   "language": "python",
   "name": "python3"
  },
  "language_info": {
   "codemirror_mode": {
    "name": "ipython",
    "version": 3
   },
   "file_extension": ".py",
   "mimetype": "text/x-python",
   "name": "python",
   "nbconvert_exporter": "python",
   "pygments_lexer": "ipython3",
   "version": "3.11.2"
  },
  "orig_nbformat": 4
 },
 "nbformat": 4,
 "nbformat_minor": 2
}
