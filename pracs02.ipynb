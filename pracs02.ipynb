{
 "cells": [
  {
   "cell_type": "code",
   "execution_count": 1,
   "metadata": {},
   "outputs": [
    {
     "name": "stdout",
     "output_type": "stream",
     "text": [
      "Hi-i-am-Priyanka\n"
     ]
    }
   ],
   "source": [
    "str = input(\"Enter a sentence\")\n",
    "str1 = str.replace(\" \",'-')\n",
    "print(str1)\n"
   ]
  },
  {
   "cell_type": "code",
   "execution_count": 3,
   "metadata": {},
   "outputs": [
    {
     "name": "stdout",
     "output_type": "stream",
     "text": [
      "110\n"
     ]
    }
   ],
   "source": [
    "import random\n",
    "import math\n",
    "rno = min(random.sample(range(100,200),10))\n",
    "print(rno)"
   ]
  },
  {
   "cell_type": "code",
   "execution_count": 5,
   "metadata": {},
   "outputs": [
    {
     "name": "stdout",
     "output_type": "stream",
     "text": [
      "{'Afghanistan': 'Afghani', 'Luxembourg ': 'Euro', 'Qatar': 'Qatari Riyal', 'Vietnam': 'Dong', 'India': 'Rupee'}\n",
      "Afghanistan : Afghani\n",
      "Luxembourg  : Euro\n",
      "Qatar : Qatari Riyal\n",
      "Vietnam : Dong\n",
      "India : Rupee\n"
     ]
    }
   ],
   "source": [
    "dict = {\"Afghanistan\":\"Afghani\",\"Luxembourg \":\"Euro\",\"Qatar\":\"Qatari Riyal\",\"Vietnam\":\"Dong\",\"India\":\"Rupee\"}\n",
    "print(dict)\n",
    "for i,j in dict.items():\n",
    "    print(i,\":\",j)"
   ]
  },
  {
   "cell_type": "code",
   "execution_count": 4,
   "metadata": {},
   "outputs": [
    {
     "name": "stdout",
     "output_type": "stream",
     "text": [
      "India  -  Indian Rupee\n",
      "Argentina  -  Peso\n",
      "Australia  -  Australian Dollar\n",
      "South Korea  -  South Korean Won\n",
      "Russia  -  Ruble\n"
     ]
    }
   ],
   "source": [
    "currencies = {    \n",
    "\"India\":\"Indian Rupee\",\n",
    "    \"Argentina\":\"Peso\",\n",
    "    \"Australia\":\"Australian Dollar\",\n",
    "    \"South Korea\":\"South Korean Won\",\n",
    "    \"Russia\":\"Ruble\"\n",
    "}\n",
    "for country in currencies:\n",
    "    print(country,\" - \",currencies[country])"
   ]
  },
  {
   "cell_type": "code",
   "execution_count": 7,
   "metadata": {},
   "outputs": [
    {
     "name": "stdout",
     "output_type": "stream",
     "text": [
      "<class 'complex'>\n",
      "3.0\n",
      "2.0\n",
      "(3-2j)\n",
      "3.605551275463989\n"
     ]
    }
   ],
   "source": [
    "comnum = 3+2j\n",
    "comnum2 = complex(3,2)\n",
    "print(type(comnum))\n",
    "print(comnum.real)\n",
    "print(comnum.imag)\n",
    "print(comnum.conjugate())\n",
    "def magnitude(comnum):\n",
    "    r = comnum.real\n",
    "    i = comnum.imag\n",
    "    ans = r*r + i+i\n",
    "    return math.sqrt(ans)\n",
    "print(magnitude(comnum))"
   ]
  },
  {
   "cell_type": "code",
   "execution_count": 8,
   "metadata": {},
   "outputs": [
    {
     "name": "stdout",
     "output_type": "stream",
     "text": [
      "help\n"
     ]
    }
   ],
   "source": [
    "str = \"   hello\"\n",
    "str = str.strip()\n",
    "str = str.replace(\"llo\",\"lp\")\n",
    "print(str)"
   ]
  },
  {
   "attachments": {},
   "cell_type": "markdown",
   "metadata": {},
   "source": [
    "lstrip() removes leading whitespaces"
   ]
  },
  {
   "cell_type": "code",
   "execution_count": 10,
   "metadata": {},
   "outputs": [
    {
     "name": "stdout",
     "output_type": "stream",
     "text": [
      "ariyankP\n"
     ]
    }
   ],
   "source": [
    "str1 = 'madam'\n",
    "str2 = str1[-1:]+str1[1:-1]+str1[:1]\n",
    "print(str2)"
   ]
  },
  {
   "cell_type": "code",
   "execution_count": 11,
   "metadata": {},
   "outputs": [
    {
     "name": "stdout",
     "output_type": "stream",
     "text": [
      "Substr present\n"
     ]
    }
   ],
   "source": [
    "if 'riy' in str1:\n",
    "    print('Substr present')\n",
    "else:\n",
    "    print(\"not present\")\n"
   ]
  },
  {
   "cell_type": "code",
   "execution_count": 3,
   "metadata": {},
   "outputs": [
    {
     "name": "stdout",
     "output_type": "stream",
     "text": [
      "madam\n",
      "p\n"
     ]
    }
   ],
   "source": [
    "str='madam'\n",
    "revstr = str[::-1]\n",
    "print(revstr)\n",
    "if str == revstr:\n",
    "    print(\"p\")\n",
    "else:\n",
    "    print(\"np\")\n",
    "\n",
    "   \n"
   ]
  }
 ],
 "metadata": {
  "kernelspec": {
   "display_name": "Python 3",
   "language": "python",
   "name": "python3"
  },
  "language_info": {
   "codemirror_mode": {
    "name": "ipython",
    "version": 3
   },
   "file_extension": ".py",
   "mimetype": "text/x-python",
   "name": "python",
   "nbconvert_exporter": "python",
   "pygments_lexer": "ipython3",
   "version": "3.11.2"
  },
  "orig_nbformat": 4
 },
 "nbformat": 4,
 "nbformat_minor": 2
}
